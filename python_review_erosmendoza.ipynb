{
 "cells": [
  {
   "cell_type": "code",
   "execution_count": 1,
   "id": "75add256-e4a7-4ad6-af27-a3afc7ea7ea6",
   "metadata": {},
   "outputs": [
    {
     "name": "stdout",
     "output_type": "stream",
     "text": [
      "Intel MKL WARNING: Support of Intel(R) Streaming SIMD Extensions 4.2 (Intel(R) SSE4.2) enabled only processors has been deprecated. Intel oneAPI Math Kernel Library 2025.0 will require Intel(R) Advanced Vector Extensions (Intel(R) AVX) instructions.\n",
      "Intel MKL WARNING: Support of Intel(R) Streaming SIMD Extensions 4.2 (Intel(R) SSE4.2) enabled only processors has been deprecated. Intel oneAPI Math Kernel Library 2025.0 will require Intel(R) Advanced Vector Extensions (Intel(R) AVX) instructions.\n",
      "Checking that ccrcc index is up-to-date...\r"
     ]
    },
    {
     "name": "stderr",
     "output_type": "stream",
     "text": [
      "cptac warning: Your version of cptac (1.1.2) is out-of-date. Latest is 1.5.13. Please run 'pip install --upgrade cptac' to update it. (/Users/erosmendoza/miniconda3/envs/qbio_490_erosmendoza/lib/python3.9/threading.py, line 917)\n"
     ]
    },
    {
     "name": "stdout",
     "output_type": "stream",
     "text": [
      "Below are the dataframes contained in this dataset and their dimensions:\n",
      "\n",
      "clinical\n",
      "\t194 rows\n",
      "\t171 columns\n",
      "CNV\n",
      "\t110 rows\n",
      "\t19285 columns\n",
      "followup\n",
      "\t352 rows\n",
      "\t27 columns\n",
      "medical_history\n",
      "\t370 rows\n",
      "\t4 columns\n",
      "methylation\n",
      "\t107 rows\n",
      "\t15885 columns\n",
      "phosphoproteomics\n",
      "\t194 rows\n",
      "\t81550 columns\n",
      "phosphoproteomics_gene\n",
      "\t194 rows\n",
      "\t6127 columns\n",
      "proteomics\n",
      "\t194 rows\n",
      "\t11710 columns\n",
      "somatic_mutation\n",
      "\t8350 rows\n",
      "\t3 columns\n",
      "transcriptomics\n",
      "\t185 rows\n",
      "\t19275 columns\n"
     ]
    }
   ],
   "source": [
    "import os\n",
    "import numpy as np\n",
    "import pandas as pd\n",
    "from sklearn.model_selection import train_test_split\n",
    "from sklearn.preprocessing import StandardScaler, LabelEncoder\n",
    "from sklearn.neighbors import KNeighborsClassifier\n",
    "from sklearn.tree import DecisionTreeClassifier\n",
    "from sklearn.neural_network import MLPClassifier\n",
    "from sklearn.naive_bayes import GaussianNB\n",
    "from sklearn.metrics import accuracy_score \n",
    "\n",
    "os.chdir('/Users/erosmendoza/Downloads/qbio_490_erosmendoza/analysis_data')\n",
    "\n",
    "import cptac\n",
    "cptac.download(dataset='Ccrcc')\n",
    "ccrcc = cptac.Ccrcc()\n",
    "ccrcc.list_data()"
   ]
  },
  {
   "cell_type": "code",
   "execution_count": 2,
   "id": "a25bf799-a2cd-4377-8e6c-77c198167e84",
   "metadata": {},
   "outputs": [],
   "source": [
    "clinical_data = ccrcc.get_clinical()\n",
    "protein_data = ccrcc.get_proteomics()\n",
    "rna_data = ccrcc.get_transcriptomics()"
   ]
  },
  {
   "cell_type": "code",
   "execution_count": 3,
   "id": "615b3bed-3d0d-4df8-9341-55eb248724bf",
   "metadata": {},
   "outputs": [],
   "source": [
    "stage_i_patients = clinical_data[clinical_data['tumor_stage_pathological'] == 'Stage I'].index\n",
    "stage_iii_patients = clinical_data[clinical_data['tumor_stage_pathological'] == 'Stage III'].index\n",
    "\n",
    "mean_expression_stage_i_protein = protein_data.loc[stage_i_patients].mean()\n",
    "mean_expression_stage_iii_protein = protein_data.loc[stage_iii_patients].mean()"
   ]
  },
  {
   "cell_type": "code",
   "execution_count": 4,
   "id": "aa55aaf4-1d9c-4ecf-b175-63aed7d6a161",
   "metadata": {},
   "outputs": [],
   "source": [
    "differential_expression_protein = mean_expression_stage_iii_protein - mean_expression_stage_i_protein\n",
    "top_5_proteins = differential_expression_protein.abs().nlargest(5).index\n",
    "\n",
    "rna_data_log = np.log2(rna_data + 1) \n",
    "mean_expression_stage_i_rna = rna_data_log.loc[stage_i_patients].mean()\n",
    "mean_expression_stage_iii_rna = rna_data_log.loc[stage_iii_patients].mean()"
   ]
  },
  {
   "cell_type": "code",
   "execution_count": 5,
   "id": "2320b348-8a69-4b85-ada2-2be6201aea3f",
   "metadata": {},
   "outputs": [],
   "source": [
    "differential_expression_rna = mean_expression_stage_iii_rna - mean_expression_stage_i_rna\n",
    "top_5_rna = differential_expression_rna.abs().nlargest(5).index\n",
    "\n",
    "selected_features = pd.concat([protein_data[top_5_proteins], rna_data_log[top_5_rna]], axis=1)\n",
    "selected_features.columns = selected_features.columns.astype(str)\n",
    "cancer_stages = clinical_data['tumor_stage_pathological']"
   ]
  },
  {
   "cell_type": "code",
   "execution_count": 6,
   "id": "7325b498-10a2-4441-865c-33fdce35e8ca",
   "metadata": {},
   "outputs": [],
   "source": [
    "scaler = StandardScaler()\n",
    "selected_features = selected_features.iloc[:, 5:]\n",
    "patient_mask = selected_features.iloc[:, :].isna().sum(axis=1)==0\n",
    "selected_features = selected_features.loc[patient_mask, :]\n",
    "cancer_stages = cancer_stages.loc[patient_mask]\n",
    "\n",
    "cancer_mask = cancer_stages.isna()\n",
    "cancer_stages = cancer_stages.dropna()\n",
    "selected_features = selected_features.loc[~cancer_mask, :]\n",
    "\n",
    "selected_features_scaled = scaler.fit_transform(selected_features)\n",
    "encoder = LabelEncoder()\n",
    "cancer_stages_encoded = encoder.fit_transform(cancer_stages)"
   ]
  },
  {
   "cell_type": "code",
   "execution_count": 7,
   "id": "4d4183fb-57b2-419a-89fc-f6ea4fbdea52",
   "metadata": {},
   "outputs": [],
   "source": [
    "X_train, X_test, y_train, y_test = train_test_split(selected_features_scaled, cancer_stages_encoded, train_size=0.7)\n",
    "\n",
    "X_train = pd.DataFrame(X_train, columns=selected_features.columns).dropna()\n",
    "y_train = y_train[X_train.index] "
   ]
  },
  {
   "cell_type": "code",
   "execution_count": 8,
   "id": "0c3812a9-6a37-4262-bed0-3327a5ee2021",
   "metadata": {},
   "outputs": [
    {
     "name": "stdout",
     "output_type": "stream",
     "text": [
      "Mean accuracies: {'KNeighborsClassifier': 0.4545454545454545, 'DecisionTreeClassifier': 0.4424242424242425, 'MLPClassifier': 0.4606060606060606, 'GaussianNB': 0.4545454545454545}\n",
      "Best model: MLPClassifier\n"
     ]
    }
   ],
   "source": [
    "import warnings\n",
    "warnings.filterwarnings('ignore')\n",
    "\n",
    "models = {\n",
    "    \"KNeighborsClassifier\": KNeighborsClassifier(),\n",
    "    \"DecisionTreeClassifier\": DecisionTreeClassifier(),\n",
    "    \"MLPClassifier\": MLPClassifier(),\n",
    "    \"GaussianNB\": GaussianNB()\n",
    "}\n",
    "\n",
    "num_runs = 10\n",
    "accuracies = {model_name: [] for model_name in models.keys()}\n",
    "\n",
    "for _ in range(num_runs):\n",
    "    for model_name, model in models.items():\n",
    "        model.fit(X_train, y_train)\n",
    "        y_pred = model.predict(X_test)\n",
    "        accuracy = accuracy_score(y_test, y_pred)\n",
    "        accuracies[model_name].append(accuracy)\n",
    "\n",
    "mean_accuracies = {model_name: np.mean(accuracy_list) for model_name, accuracy_list in accuracies.items()}\n",
    "best_model = max(mean_accuracies, key=mean_accuracies.get)\n",
    "\n",
    "print(\"Mean accuracies:\", mean_accuracies)\n",
    "print(\"Best model:\", best_model)"
   ]
  }
 ],
 "metadata": {
  "kernelspec": {
   "display_name": "Python 3 (ipykernel)",
   "language": "python",
   "name": "python3"
  },
  "language_info": {
   "codemirror_mode": {
    "name": "ipython",
    "version": 3
   },
   "file_extension": ".py",
   "mimetype": "text/x-python",
   "name": "python",
   "nbconvert_exporter": "python",
   "pygments_lexer": "ipython3",
   "version": "3.9.18"
  }
 },
 "nbformat": 4,
 "nbformat_minor": 5
}
